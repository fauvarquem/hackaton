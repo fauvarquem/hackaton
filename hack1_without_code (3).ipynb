{
 "cells": [
  {
   "cell_type": "markdown",
   "metadata": {},
   "source": [
    "# Hackathon 1: descriptive statistics, estimation and bootstrapping\n",
    "\n",
    "This project illustrates the course LEPL1109 with an industrial applications of statistics. You will analyse the performance of wind farms located in the Walloon Brabant near Beauvechain and in the high Fens, close to Elsenborn. Each wind farm exploits 8 wind turbines. The kinetic power, noted Pk, (in watt) of one wind turbine is calculated with the formula \n",
    "\n",
    "Pk (W) = 0.5 x Rho x S x V^3\n",
    "\n",
    "Where \n",
    "\n",
    "S   : is the surface of the circle in square meters with a radius equal to the length of blades (32 m).\n",
    "Rho : is the air density (“masse volumique”). We consider here an average value of 1.2 kg/m^3\n",
    "V   : is the speed of wind in m/s.\n",
    "\n",
    "According to the Betz limit, only 59.3% of the kinetic energy from wind can be used to spin the turbine and generate electricity. In reality, turbines cannot reach the Betz limit, and the efficiency is estimated to 42% of the kinetic power. One wind turbine generates an electric power Pe = 0.42 x Pk. \n",
    "\n",
    "The wind turbins are stopped if the wind speed is above 90 km/h.\n",
    "\n",
    "The file “BeauvechainWind.csv” and “Elsenborn.csv” contains the average daily wind speeds, measured in km/h, at Beauvechain and  Elsenborn (source www. https://www.ecad.eu/)\n",
    "\n",
    "FILE FORMAT (MISSING VALUE CODE IS -9999):\n",
    "01-06 SOUID: Source identifier\n",
    "08-15 DATE : Date YYYYMMDD\n",
    "17-21 FG   : wind speed in 0.1 m/s\n",
    "23-27 Q_FG : Quality code for FG (0='valid'; 1='suspect'; 9='missing')\n",
    "\n",
    "\n",
    "## Report content\n",
    "\n",
    "•\tGrades are granted to the members whose names are in the Jupyter notebook. If your name doesn’t appear on the top of the notebook, you’ll get a 0, even though you are in a group on Moodle.\n",
    "\n",
    "•\tThe jupyter notebook must be compiled with printed results and next submitted via moodle. The absence of compiled results (or non-printed values) leads to a lower grade.\n",
    "\n",
    "## Report submission\n",
    "\n",
    "•\tDeadline, see moodle website. Submission after the deadline will not be accepted.\n",
    "\n",
    "•\tTo submit your report, go to the section “APP” on Moodle and the subsection “Soumission du rapport”. You can upload your work there. Once you are sure that it is your final version, click the button “Envoyer le devoir”. It is important that you don’t forget to click on this button ! \n",
    "\n",
    "•\tReports that have not been uploaded through Moodle will not be corrected.\n",
    "\n",
    "\n",
    "## Names and Noma of participants:\n",
    "\n",
    "Part. 1: Gaetan Berlaimont 50232000\n",
    "\n",
    "Part. 2:\n",
    "\n",
    "Part. 3:\n",
    "\n",
    "Part. 4:\n"
   ]
  },
  {
   "cell_type": "code",
   "execution_count": null,
   "metadata": {},
   "outputs": [],
   "source": []
  },
  {
   "cell_type": "markdown",
   "metadata": {},
   "source": [
    "------------------------------------------------------------------------------------------------------\n",
    "1.\tWrite a function computing the electric power capacity (in Mega Watts = 10^6 W), for the two wind farms using wind data from the 1/1/2017 to the 1/1/2021\n",
    "\n",
    "•\tDo not forget to set the production to zero if the wind speed is above 90 km. \n",
    "\n",
    "•\tTake care to converts units.\n",
    "\n",
    "•\tRemove all days with missing data (error code 1 or 9) for Beauvechain or Elsenborn\n",
    "\n",
    "------------------------------------------------------------------------------------------------------"
   ]
  },
  {
   "cell_type": "code",
   "execution_count": 75,
   "metadata": {},
   "outputs": [
    {
     "name": "stdout",
     "output_type": "stream",
     "text": [
      "production à Beauvechain entre le 1/1/2017 jusqu'au 1/1/2021 = 397761.89692280797 Mega Watts.\n",
      "production à Elsenborn entre le 1/1/2017 jusqu'au 1/1/2021 = 173985.14693210134 Mega Watts.\n"
     ]
    }
   ],
   "source": [
    "# Code here\n",
    "import csv\n",
    "import numpy as np\n",
    "import matplotlib.pyplot as plt\n",
    "\n",
    "Beauvechain = open(\"Beauvechain.csv\",\"r\")\n",
    "Elsenborn = open(\"Elsenborn.csv\",\"r\")\n",
    "Rho = 1.2#Kg/m^3\n",
    "S = 32#m1462\n",
    "BV = np.zeros(1462)\n",
    "EL = np.zeros(1462)\n",
    "B = csv.reader(Beauvechain)\n",
    "E = csv.reader(Elsenborn)\n",
    "TOTbeauvechain = 0\n",
    "TOTelsenborn = 0\n",
    "i = 0\n",
    "cnt = 0\n",
    "for val in B:\n",
    "    if (i!=0):\n",
    "        if(int(val[1])>=20170101 and int(val[1]) <= 20210101 and int(val[2])<=90 and int(val[2])!=-9999 and int(val[3])==0):\n",
    "            BV[cnt] = (0.42*8*0.5*Rho*S*(float(val[2])*3.6)**3)/1000000\n",
    "            TOTbeauvechain += BV[cnt]\n",
    "            cnt+=1\n",
    "    i+=1\n",
    "i = 0\n",
    "cnt=0\n",
    "for val in E:\n",
    "    if (i!=0):\n",
    "        if(int(val[1])>=20170101 and int(val[1]) <= 20210101 and int(val[2])<=90 and int(val[2])!=-9999 and int(val[3])==0):\n",
    "            EL[cnt] = (0.42*8*0.5*Rho*S*(float(val[2])*3.6)**3)/1000000\n",
    "            TOTelsenborn += EL[cnt]\n",
    "            cnt+=1\n",
    "    i+=1\n",
    "Beauvechain.close()\n",
    "Elsenborn.close()\n",
    "    \n",
    "print(\"production à Beauvechain entre le 1/1/2017 jusqu'au 1/1/2021 = \"+str(TOTbeauvechain) + \" Mega Watts.\")\n",
    "print(\"production à Elsenborn entre le 1/1/2017 jusqu'au 1/1/2021 = \"+str(TOTelsenborn) + \" Mega Watts.\")"
   ]
  },
  {
   "cell_type": "markdown",
   "metadata": {},
   "source": [
    "Comment briefly your results\n",
    "\n"
   ]
  },
  {
   "cell_type": "markdown",
   "metadata": {},
   "source": [
    "------------------------------------------------------------------------------------------------------------------------\n",
    "\n",
    "2.\tPlot histograms and box plots of electric power capacity (MW) from the 1/1/2017 to the 1/1/2021 (both sites). \n",
    "\n",
    "------------------------------------------------------------------------------------------------------------------------"
   ]
  },
  {
   "cell_type": "code",
   "execution_count": 76,
   "metadata": {},
   "outputs": [
    {
     "data": {
      "image/png": "[encoded data removed]",
      "text/plain": [
       "<Figure size 640x480 with 1 Axes>"
      ]
     },
     "metadata": {},
     "output_type": "display_data"
    },
    {
     "data": {
      "image/png": "[encoded data removed]",
      "text/plain": [
       "<Figure size 640x480 with 1 Axes>"
      ]
     },
     "metadata": {},
     "output_type": "display_data"
    },
    {
     "data": {
      "image/png": "[encoded data removed]",
      "text/plain": [
       "<Figure size 640x480 with 1 Axes>"
      ]
     },
     "metadata": {},
     "output_type": "display_data"
    }
   ],
   "source": [
    "# Code here\n",
    "plt.hist([BV,EL], color = ['blue','red'],label = ['Beauvechain', 'Elsenborn'])\n",
    "plt.xlabel('Nombre de jour de production $[-]$')\n",
    "plt.ylabel('Energie produite $[M Watts]$')\n",
    "plt.title('''Production d'électricité à Beauvechain et à Elsenborn entre le 1/1/2017 et le 1/1/2021''')\n",
    "plt.legend()\n",
    "plt.show()\n",
    "\n",
    "plt.boxplot(BV)\n",
    "plt.show()\n",
    "\n",
    "plt.boxplot(EL)\n",
    "plt.show()"
   ]
  },
  {
   "cell_type": "markdown",
   "metadata": {},
   "source": [
    "------------------------------------------------------------------------------------------------------\n",
    "\n",
    "3.\tCompare the following statistics of both sites and draw a first conclusions\n",
    "\n",
    "•\tAverage and median powers for each farm (MW)\n",
    "\n",
    "•\tStandard deviations of powers, for each farm (MW)\n",
    "\n",
    "•\t5% and 95% percentiles of powers, for each farm (MW)\n",
    "\n",
    "The average and standard deviation of the total power capacities (Beauvechain + Elsenborn).\n",
    "\n",
    "------------------------------------------------------------------------------------------------------"
   ]
  },
  {
   "cell_type": "code",
   "execution_count": 74,
   "metadata": {},
   "outputs": [
    {
     "name": "stdout",
     "output_type": "stream",
     "text": [
      "La production énergétique de la ferme de Beauvechain à les caractéristiques suisvantes :\n",
      "\t-une moyenne de : 272.066960959513 MW et un median de :108.16576546406398 WM\n",
      "\t-un écart-type de : 394.64204329691734 WM\n",
      "\t-un percentille à 5% de : 5.2010585948160015 MW de 95% à : 1170.8913260298243 WM\n",
      "\n",
      "\n",
      "La production énergétique de la ferme de Elsenborn à les caractéristiques suisvantes :\n",
      "\t-une moyenne de : 119.00488846244961 MW et un median de :36.621111066623996 WM\n",
      "\t-un écart-type de : 208.84807170157285 WM\n",
      "\t-un percentille à 5% de : 1.0578194694143983 MW de 95% à : 500.767432704 WM\n",
      "\n",
      "\n",
      "La production énergétique des deux fermes combinées à les caractéristiques suisvantes :\n",
      "\t-une moyenne de : 195.5359247109814 MW\n",
      "\t-un écart-type de : 324.86447821328477 MW\n"
     ]
    }
   ],
   "source": [
    "moyBeauv = sum(BV)/len(BV)\n",
    "moyElsen = sum(EL)/len(EL)\n",
    "medianBauv = np.percentile(BV,50) \n",
    "medianElsen = np.percentile(EL,50)\n",
    "\n",
    "ecarTBauv = np.std(BV)\n",
    "ecarTElsen = np.std(EL)\n",
    "\n",
    "fivePercBauv = np.percentile(BV,5)\n",
    "PercBauv = np.percentile(BV,95)\n",
    "fivePercElsen = np.percentile(EL,5)\n",
    "PercElsen = np.percentile(EL,95)\n",
    "\n",
    "TOT = np.append(BV,EL)\n",
    "MOY = sum(TOT)/len(TOT)\n",
    "ECART = np.std(TOT)\n",
    "\n",
    "print(\"La production énergétique de la ferme de Beauvechain à les caractéristiques suisvantes :\")\n",
    "print(\"\\t-une moyenne de : \"+str(moyBeauv)+\" MW et un median de :\"+str(medianBauv)+\" WM\")\n",
    "print(\"\\t-un écart-type de : \"+str(ecarTBauv)+\" WM\")\n",
    "print(\"\\t-un percentille à 5% de : \"+str(fivePercBauv)+\" MW de 95% à : \"+str(PercBauv)+\" WM\")\n",
    "print(\"\\n\")\n",
    "print(\"La production énergétique de la ferme de Elsenborn à les caractéristiques suisvantes :\")\n",
    "print(\"\\t-une moyenne de : \"+str(moyElsen)+\" MW et un median de :\"+str(medianElsen)+\" WM\")\n",
    "print(\"\\t-un écart-type de : \"+str(ecarTElsen)+\" WM\")\n",
    "print(\"\\t-un percentille à 5% de : \"+str(fivePercElsen)+\" MW de 95% à : \"+str(PercElsen)+\" WM\")\n",
    "print(\"\\n\")\n",
    "print(\"La production énergétique des deux fermes combinées à les caractéristiques suisvantes :\")\n",
    "print(\"\\t-une moyenne de : \"+str(MOY)+\" MW\")\n",
    "print(\"\\t-un écart-type de : \"+str(ECART)+\" MW\")"
   ]
  },
  {
   "cell_type": "markdown",
   "metadata": {},
   "source": [
    "Comment briefly your results\n",
    "\n"
   ]
  },
  {
   "cell_type": "markdown",
   "metadata": {},
   "source": [
    "\n",
    "------------------------------------------------------------------------------------------------------\n",
    "4.\tFit Gamma and Inverse Gaussian distributions to wind speeds (in Km/h) in Beauvechain and Elsenborn. Estimate their parameters by log-likelihood maximization (MLE). Which distribution is the best one? Compare the histograms of winds with the fitted pdf’s on the same plot.\n",
    "------------------------------------------------------------------------------------------------------"
   ]
  },
  {
   "cell_type": "code",
   "execution_count": 2,
   "metadata": {},
   "outputs": [],
   "source": [
    "# Code here, gamma distribution\n",
    "\n"
   ]
  },
  {
   "cell_type": "markdown",
   "metadata": {},
   "source": [
    "Comment briefly your results\n",
    "\n"
   ]
  },
  {
   "cell_type": "code",
   "execution_count": 1,
   "metadata": {},
   "outputs": [],
   "source": [
    "# Code here, inverse Gaussian\n",
    "\n"
   ]
  },
  {
   "cell_type": "markdown",
   "metadata": {},
   "source": [
    "Comment briefly your results\n"
   ]
  },
  {
   "cell_type": "markdown",
   "metadata": {},
   "source": [
    "------------------------------------------------------------------------------------------------------\n",
    "5.\tCompute numerically for both sites, the following statistics \n",
    "\n",
    "•\tExpected and median powers for each farm (MW)\n",
    "\n",
    "•\tStandard deviation of powers for each farm (MW)\n",
    "\n",
    "•\t5% and 95% percentiles of powers for each farm (MW)\n",
    "\n",
    "Use the best distributions fitted in Question 4 (not observed values)\n",
    "\n",
    "------------------------------------------------------------------------------------------------------"
   ]
  },
  {
   "cell_type": "code",
   "execution_count": null,
   "metadata": {},
   "outputs": [],
   "source": [
    "# Code here\n",
    "\n"
   ]
  },
  {
   "cell_type": "markdown",
   "metadata": {},
   "source": [
    "Comment briefly your results\n",
    "\n"
   ]
  },
  {
   "cell_type": "markdown",
   "metadata": {},
   "source": [
    "------------------------------------------------------------------------------------------------------\n",
    "\n",
    "6.\tSame question as Q.4 but this time, you fit the best distribution by the methods of moments MM, (in Python). Compare parameter estimates and plot pdf’s obtained by MLE and MM for both wind farms.\n",
    "\n",
    "------------------------------------------------------------------------------------------------------"
   ]
  },
  {
   "cell_type": "code",
   "execution_count": 4,
   "metadata": {
    "scrolled": true
   },
   "outputs": [],
   "source": [
    "#code here\n",
    "\n"
   ]
  },
  {
   "cell_type": "markdown",
   "metadata": {},
   "source": [
    "------------------------------------------------------------------------------------------------------\n",
    "\n",
    "7.\tBootstrap 1000 times a sample of 500 daily speeds of wind for both wind farms and compute a 5% confidence interval for parameter(s) estimates for the best distribution of Question 4) modelling winds in Beauvechain. How do you interpret the results\n",
    "\n",
    "------------------------------------------------------------------------------------------------------"
   ]
  },
  {
   "cell_type": "code",
   "execution_count": 6,
   "metadata": {},
   "outputs": [],
   "source": [
    "#code here\n",
    "\n"
   ]
  },
  {
   "cell_type": "markdown",
   "metadata": {},
   "source": [
    "Comment briefly your results\n",
    "\n"
   ]
  },
  {
   "cell_type": "markdown",
   "metadata": {},
   "source": [
    "------------------------------------------------------------------------------------------------------\n",
    "\n",
    "8.\tLet us denote by X the wind speed observed at Beauvechain on a day of the year. The winds observed over 30 days are denoted by (X1,…,X30). They are realizations of X, a random variable with the distribution fitted in Question 4. If M=max{ X1,…,X30},  \n",
    "\n",
    "•\tfind the statistical law of M (equation requested, hint use the cdf of X) \n",
    "\n",
    "•\tplot the pdf and cdf of M. \n",
    "\n",
    "•\tDetermine the wind value, p5, such that  P(M>p5)=95%.\n",
    "\n",
    "\n",
    "------------------------------------------------------------------------------------------------------"
   ]
  },
  {
   "cell_type": "markdown",
   "metadata": {},
   "source": [
    "Comment briefly your results\n",
    "\n"
   ]
  },
  {
   "cell_type": "code",
   "execution_count": null,
   "metadata": {},
   "outputs": [],
   "source": [
    "# Code here\n",
    "\n"
   ]
  }
 ],
 "metadata": {
  "kernelspec": {
   "display_name": "Python 3 (ipykernel)",
   "language": "python",
   "name": "python3"
  },
  "language_info": {
   "codemirror_mode": {
    "name": "ipython",
    "version": 3
   },
   "file_extension": ".py",
   "mimetype": "text/x-python",
   "name": "python",
   "nbconvert_exporter": "python",
   "pygments_lexer": "ipython3",
   "version": "3.9.7"
  }
 },
 "nbformat": 4,
 "nbformat_minor": 4
}
